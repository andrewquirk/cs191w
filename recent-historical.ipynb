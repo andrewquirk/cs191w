{
 "cells": [
  {
   "cell_type": "code",
   "execution_count": null,
   "metadata": {},
   "outputs": [],
   "source": [
    "import urllib.request\n",
    "import re\n",
    "import time\n",
    "c1 = time.time()\n",
    "path = \"http://stanford.edu/~nkgarg/NYTembeddings/vectorsnyt1987-1990.txt\"\n",
    "data = urllib.request.urlopen(path)\n",
    "c2 = time.time()\n",
    "\n",
    "counter = 0\n",
    "embed_nyt_87 = {}\n",
    "for line in data:\n",
    "    c3 = time.time()\n",
    "    tokens = line.split()\n",
    "    values = []\n",
    "    for w in range(len(tokens)):\n",
    "        tokens[w] = tokens[w].decode(\"utf-8\")\n",
    "        if w == 0:\n",
    "            key = tokens[w]\n",
    "        if w > 0:\n",
    "            values.append(float(tokens[w]))\n",
    "    embed_nyt_87[key] = values"
   ]
  },
  {
   "cell_type": "code",
   "execution_count": null,
   "metadata": {},
   "outputs": [
    {
     "name": "stdout",
     "output_type": "stream",
     "text": [
      "con\n"
     ]
    }
   ],
   "source": [
    "import urllib.request\n",
    "import re\n",
    "import time\n",
    "from gensim.scripts.glove2word2vec import glove2word2vec\n",
    "c1 = time.time()\n",
    "path = \"http://stanford.edu/~nkgarg/NYTembeddings/vectorsnyt1987-1990.txt\"\n",
    "data = urllib.request.urlopen(path).read().decode('UTF-8')\n",
    "\n",
    "\n",
    "c2 = time.time()\n",
    "print(\"con\")\n",
    "\n",
    "\n",
    "\n",
    "\n",
    "# from gensim.test.utils import datapath, get_tmpfile\n",
    "# from gensim.models import KeyedVectors\n",
    "# print(\"call\")\n",
    "# glove_file = data\n",
    "# tmp_file = get_tmpfile(\"test_word2vec.txt\")\n",
    "# print(\"here\")\n",
    "# # call glove2word2vec script\n",
    "# # default way (through CLI): python -m gensim.scripts.glove2word2vec --input <glove_file> --output <w2v_file>\n",
    "# from gensim.scripts.glove2word2vec import glove2word2vec\n",
    "\n",
    "# glove2word2vec(glove_file, tmp_file)\n",
    "# print(\"train\")\n",
    "# model = KeyedVectors.load_word2vec_format(tmp_file)"
   ]
  },
  {
   "cell_type": "code",
   "execution_count": null,
   "metadata": {},
   "outputs": [
    {
     "name": "stdout",
     "output_type": "stream",
     "text": [
      "running\n"
     ]
    }
   ],
   "source": [
    "print(\"running\")\n",
    "glove2word2vec(glove_input_file=data, word2vec_output_file=\"gensim_vectorsnyt1987.txt\")\n",
    "print(\"done\")"
   ]
  },
  {
   "cell_type": "code",
   "execution_count": null,
   "metadata": {},
   "outputs": [],
   "source": [
    "from gensim.models.keyedvectors import KeyedVectors\n",
    "model = KeyedVectors.load_word2vec_format(\"gensim_vectorsnyt1987.txt\", binary=False)"
   ]
  },
  {
   "cell_type": "code",
   "execution_count": null,
   "metadata": {},
   "outputs": [],
   "source": [
    "print(model[\"test\"]"
   ]
  },
  {
   "cell_type": "code",
   "execution_count": null,
   "metadata": {},
   "outputs": [],
   "source": [
    "# with open(\"vectorsnyt1987.txt\", \"w\") as text_file:\n",
    "#     tmp_file = get_tmpfile(\"test_word2vec.txt\")\n",
    "    \n",
    "#     glove2word2vec(data, tmp_file)\n",
    "#     KeyedVectors.load_word2vec_format(tmp_file)\n",
    "#     text_file.write(tmp_file)"
   ]
  },
  {
   "cell_type": "code",
   "execution_count": null,
   "metadata": {},
   "outputs": [],
   "source": []
  }
 ],
 "metadata": {
  "kernelspec": {
   "display_name": "Python 3",
   "language": "python",
   "name": "python3"
  },
  "language_info": {
   "codemirror_mode": {
    "name": "ipython",
    "version": 3
   },
   "file_extension": ".py",
   "mimetype": "text/x-python",
   "name": "python",
   "nbconvert_exporter": "python",
   "pygments_lexer": "ipython3",
   "version": "3.6.4"
  }
 },
 "nbformat": 4,
 "nbformat_minor": 2
}
