{
 "cells": [
  {
   "cell_type": "code",
   "execution_count": null,
   "metadata": {},
   "outputs": [],
   "source": [
    "import urllib.request\n",
    "import re\n",
    "import time\n",
    "c1 = time.time()\n",
    "path = \"http://stanford.edu/~nkgarg/NYTembeddings/vectorsnyt1987-1990.txt\"\n",
    "data = urllib.request.urlopen(path)\n",
    "c2 = time.time()\n",
    "\n",
    "counter = 0\n",
    "embed_nyt_87 = {}\n",
    "for line in data:\n",
    "    c3 = time.time()\n",
    "    tokens = line.split()\n",
    "    values = []\n",
    "    for w in range(len(tokens)):\n",
    "        tokens[w] = tokens[w].decode(\"utf-8\")\n",
    "        if w == 0:\n",
    "            key = tokens[w]\n",
    "        if w > 0:\n",
    "            values.append(float(tokens[w]))\n",
    "    embed_nyt_87[key] = values"
   ]
  },
  {
   "cell_type": "code",
   "execution_count": 1,
   "metadata": {},
   "outputs": [
    {
     "name": "stdout",
     "output_type": "stream",
     "text": [
      "con\n"
     ]
    }
   ],
   "source": [
    "import urllib.request\n",
    "import re\n",
    "import time\n",
    "from gensim.scripts.glove2word2vec import glove2word2vec\n",
    "c1 = time.time()\n",
    "path = \"http://stanford.edu/~nkgarg/NYTembeddings/vectorsnyt1987-1990.txt\"\n",
    "data = urllib.request.urlopen(path).read().decode('UTF-8')\n",
    "\n",
    "\n",
    "c2 = time.time()\n",
    "print(\"con\")\n",
    "\n",
    "\n",
    "\n",
    "\n",
    "# from gensim.test.utils import datapath, get_tmpfile\n",
    "# from gensim.models import KeyedVectors\n",
    "# print(\"call\")\n",
    "# glove_file = data\n",
    "# tmp_file = get_tmpfile(\"test_word2vec.txt\")\n",
    "# print(\"here\")\n",
    "# # call glove2word2vec script\n",
    "# # default way (through CLI): python -m gensim.scripts.glove2word2vec --input <glove_file> --output <w2v_file>\n",
    "# from gensim.scripts.glove2word2vec import glove2word2vec\n",
    "\n",
    "# glove2word2vec(glove_file, tmp_file)\n",
    "# print(\"train\")\n",
    "# model = KeyedVectors.load_word2vec_format(tmp_file)"
   ]
  },
  {
   "cell_type": "code",
   "execution_count": null,
   "metadata": {},
   "outputs": [],
   "source": [
    "glove2word2vec(glove_input_file=data, word2vec_output_file=\"gensim_vectorsnyt1987.txt\")\n",
    "print(\"done\")"
   ]
  },
  {
   "cell_type": "code",
   "execution_count": null,
   "metadata": {},
   "outputs": [],
   "source": [
    "from gensim.models.keyedvectors import KeyedVectors\n",
    "model = KeyedVectors.load_word2vec_format(\"gensim_vectorsnyt1987.txt\", binary=False)"
   ]
  },
  {
   "cell_type": "code",
   "execution_count": 2,
   "metadata": {},
   "outputs": [
    {
     "ename": "NameError",
     "evalue": "name 'get_tmpfile' is not defined",
     "output_type": "error",
     "traceback": [
      "\u001b[0;31m---------------------------------------------------------------------------\u001b[0m",
      "\u001b[0;31mNameError\u001b[0m                                 Traceback (most recent call last)",
      "\u001b[0;32m<ipython-input-2-ea7a4d3bdd99>\u001b[0m in \u001b[0;36m<module>\u001b[0;34m()\u001b[0m\n\u001b[1;32m      1\u001b[0m \u001b[0;32mwith\u001b[0m \u001b[0mopen\u001b[0m\u001b[0;34m(\u001b[0m\u001b[0;34m\"vectorsnyt1987.txt\"\u001b[0m\u001b[0;34m,\u001b[0m \u001b[0;34m\"w\"\u001b[0m\u001b[0;34m)\u001b[0m \u001b[0;32mas\u001b[0m \u001b[0mtext_file\u001b[0m\u001b[0;34m:\u001b[0m\u001b[0;34m\u001b[0m\u001b[0m\n\u001b[0;32m----> 2\u001b[0;31m     \u001b[0mtmp_file\u001b[0m \u001b[0;34m=\u001b[0m \u001b[0mget_tmpfile\u001b[0m\u001b[0;34m(\u001b[0m\u001b[0;34m\"test_word2vec.txt\"\u001b[0m\u001b[0;34m)\u001b[0m\u001b[0;34m\u001b[0m\u001b[0m\n\u001b[0m\u001b[1;32m      3\u001b[0m \u001b[0;34m\u001b[0m\u001b[0m\n\u001b[1;32m      4\u001b[0m     \u001b[0mglove2word2vec\u001b[0m\u001b[0;34m(\u001b[0m\u001b[0mdata\u001b[0m\u001b[0;34m,\u001b[0m \u001b[0mtmp_file\u001b[0m\u001b[0;34m)\u001b[0m\u001b[0;34m\u001b[0m\u001b[0m\n\u001b[1;32m      5\u001b[0m     \u001b[0mKeyedVectors\u001b[0m\u001b[0;34m.\u001b[0m\u001b[0mload_word2vec_format\u001b[0m\u001b[0;34m(\u001b[0m\u001b[0mtmp_file\u001b[0m\u001b[0;34m)\u001b[0m\u001b[0;34m\u001b[0m\u001b[0m\n",
      "\u001b[0;31mNameError\u001b[0m: name 'get_tmpfile' is not defined"
     ]
    }
   ],
   "source": [
    "# with open(\"vectorsnyt1987.txt\", \"w\") as text_file:\n",
    "#     tmp_file = get_tmpfile(\"test_word2vec.txt\")\n",
    "    \n",
    "#     glove2word2vec(data, tmp_file)\n",
    "#     KeyedVectors.load_word2vec_format(tmp_file)\n",
    "#     text_file.write(tmp_file)"
   ]
  },
  {
   "cell_type": "code",
   "execution_count": null,
   "metadata": {},
   "outputs": [],
   "source": []
  }
 ],
 "metadata": {
  "kernelspec": {
   "display_name": "Python 3",
   "language": "python",
   "name": "python3"
  },
  "language_info": {
   "codemirror_mode": {
    "name": "ipython",
    "version": 3
   },
   "file_extension": ".py",
   "mimetype": "text/x-python",
   "name": "python",
   "nbconvert_exporter": "python",
   "pygments_lexer": "ipython3",
   "version": "3.6.4"
  }
 },
 "nbformat": 4,
 "nbformat_minor": 2
}
